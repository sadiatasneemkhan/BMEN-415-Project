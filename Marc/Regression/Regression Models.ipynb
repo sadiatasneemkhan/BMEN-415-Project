{
 "cells": [
  {
   "cell_type": "markdown",
   "id": "4e05de68",
   "metadata": {},
   "source": [
    "Predicting Tumour Size with Regression "
   ]
  },
  {
   "cell_type": "code",
   "execution_count": 1,
   "id": "dbed269f",
   "metadata": {},
   "outputs": [],
   "source": [
    "# Libraries \n",
    "import numpy as np \n",
    "import sklearn\n",
    "import matplotlib.pyplot as plt \n",
    "import pandas as pd \n",
    "import tensorflow as tf\n",
    "from pandas import read_csv \n",
    "from keras.models import Sequential \n",
    "from keras.layers import Dense \n",
    "from keras.wrappers.scikit_learn import KerasRegressor \n",
    "from sklearn.model_selection import cross_val_score \n",
    "from sklearn.model_selection import KFold \n",
    "from sklearn.pipeline import Pipeline \n",
    "from sklearn.model_selection import train_test_split "
   ]
  },
  {
   "cell_type": "code",
   "execution_count": 2,
   "id": "c221495e",
   "metadata": {},
   "outputs": [],
   "source": [
    "# Importing Dataset and extracting the independent and dependent variables \n",
    "tumour = pd.read_csv('C:/Users/marcv/Downloads/regression.csv')\n",
    "\n",
    "#Splitting the data set\n",
    "X = tumour.iloc[:, :-1].values\n",
    "y = tumour.iloc[:, 9].values \n",
    "X_train, X_test, y_train, y_test, = train_test_split(X, y, test_size = 0.2, random_state = 20)"
   ]
  },
  {
   "cell_type": "code",
   "execution_count": 3,
   "id": "09070793",
   "metadata": {},
   "outputs": [],
   "source": [
    "#Scaling the data \n",
    "from sklearn.preprocessing import StandardScaler \n",
    "scaler = StandardScaler()\n",
    "scaler.fit(X_train)\n",
    "\n",
    "X_train_scaled = scaler.transform(X_train)\n",
    "X_test_scaled = scaler.transform(X_test)"
   ]
  },
  {
   "cell_type": "markdown",
   "id": "9ad773e3",
   "metadata": {},
   "source": [
    "Regression using Neural Networks"
   ]
  },
  {
   "cell_type": "code",
   "execution_count": 4,
   "id": "50f90bb3",
   "metadata": {},
   "outputs": [
    {
     "name": "stdout",
     "output_type": "stream",
     "text": [
      "Model: \"sequential\"\n",
      "_________________________________________________________________\n",
      " Layer (type)                Output Shape              Param #   \n",
      "=================================================================\n",
      " dense (Dense)               (None, 128)               1280      \n",
      "                                                                 \n",
      " dense_1 (Dense)             (None, 64)                8256      \n",
      "                                                                 \n",
      " dense_2 (Dense)             (None, 1)                 65        \n",
      "                                                                 \n",
      "=================================================================\n",
      "Total params: 9,601\n",
      "Trainable params: 9,601\n",
      "Non-trainable params: 0\n",
      "_________________________________________________________________\n"
     ]
    }
   ],
   "source": [
    "# Defining the model \n",
    "model = Sequential()\n",
    "model.add(Dense(128, input_dim = 9, activation = 'relu'))\n",
    "model.add(Dense(64, activation = 'relu'))\n",
    "\n",
    "# Output Layer\n",
    "model.add(Dense(1, activation = 'linear'))\n",
    "\n",
    "model.compile(loss = 'mean_squared_error', optimizer = 'adam', metrics = ['mae'])\n",
    "model.summary()\n"
   ]
  },
  {
   "cell_type": "code",
   "execution_count": 5,
   "id": "79c9311a",
   "metadata": {},
   "outputs": [
    {
     "name": "stdout",
     "output_type": "stream",
     "text": [
      "Epoch 1/100\n",
      "183/183 [==============================] - 1s 2ms/step - loss: 43.2428 - mae: 4.9903 - val_loss: 29.2840 - val_mae: 4.3753\n",
      "Epoch 2/100\n",
      "183/183 [==============================] - 1s 4ms/step - loss: 26.6628 - mae: 4.2248 - val_loss: 26.4108 - val_mae: 4.1097\n",
      "Epoch 3/100\n",
      "183/183 [==============================] - 1s 4ms/step - loss: 25.0505 - mae: 4.0809 - val_loss: 24.6532 - val_mae: 4.0365\n",
      "Epoch 4/100\n",
      "183/183 [==============================] - 1s 4ms/step - loss: 24.4620 - mae: 4.0249 - val_loss: 24.4474 - val_mae: 3.9325\n",
      "Epoch 5/100\n",
      "183/183 [==============================] - 1s 4ms/step - loss: 24.0133 - mae: 3.9607 - val_loss: 23.9534 - val_mae: 3.8843\n",
      "Epoch 6/100\n",
      "183/183 [==============================] - 1s 4ms/step - loss: 23.6203 - mae: 3.9194 - val_loss: 23.6875 - val_mae: 3.8953\n",
      "Epoch 7/100\n",
      "183/183 [==============================] - 1s 4ms/step - loss: 23.4369 - mae: 3.8972 - val_loss: 24.0108 - val_mae: 3.8895\n",
      "Epoch 8/100\n",
      "183/183 [==============================] - 1s 4ms/step - loss: 23.2005 - mae: 3.8670 - val_loss: 23.4085 - val_mae: 3.8929\n",
      "Epoch 9/100\n",
      "183/183 [==============================] - 1s 4ms/step - loss: 22.9332 - mae: 3.8549 - val_loss: 23.6782 - val_mae: 3.8281\n",
      "Epoch 10/100\n",
      "183/183 [==============================] - 1s 4ms/step - loss: 22.7172 - mae: 3.8174 - val_loss: 22.7194 - val_mae: 3.8107\n",
      "Epoch 11/100\n",
      "183/183 [==============================] - 1s 4ms/step - loss: 22.5588 - mae: 3.8010 - val_loss: 22.5245 - val_mae: 3.7885\n",
      "Epoch 12/100\n",
      "183/183 [==============================] - 1s 4ms/step - loss: 22.4214 - mae: 3.7920 - val_loss: 22.3951 - val_mae: 3.7522\n",
      "Epoch 13/100\n",
      "183/183 [==============================] - 1s 4ms/step - loss: 22.2395 - mae: 3.7740 - val_loss: 22.6073 - val_mae: 3.8333\n",
      "Epoch 14/100\n",
      "183/183 [==============================] - 0s 2ms/step - loss: 22.0750 - mae: 3.7446 - val_loss: 22.1544 - val_mae: 3.7169\n",
      "Epoch 15/100\n",
      "183/183 [==============================] - 0s 1ms/step - loss: 21.8538 - mae: 3.7420 - val_loss: 22.4548 - val_mae: 3.7259\n",
      "Epoch 16/100\n",
      "183/183 [==============================] - 1s 4ms/step - loss: 21.6653 - mae: 3.7186 - val_loss: 23.2190 - val_mae: 3.8227\n",
      "Epoch 17/100\n",
      "183/183 [==============================] - 1s 4ms/step - loss: 21.5439 - mae: 3.7021 - val_loss: 22.0716 - val_mae: 3.6996\n",
      "Epoch 18/100\n",
      "183/183 [==============================] - 1s 4ms/step - loss: 21.6423 - mae: 3.7111 - val_loss: 22.0080 - val_mae: 3.6868\n",
      "Epoch 19/100\n",
      "183/183 [==============================] - 1s 4ms/step - loss: 21.1820 - mae: 3.6528 - val_loss: 21.4785 - val_mae: 3.6340\n",
      "Epoch 20/100\n",
      "183/183 [==============================] - 1s 4ms/step - loss: 21.0451 - mae: 3.6491 - val_loss: 21.2542 - val_mae: 3.6270\n",
      "Epoch 21/100\n",
      "183/183 [==============================] - 1s 4ms/step - loss: 20.8923 - mae: 3.6303 - val_loss: 22.2454 - val_mae: 3.6582\n",
      "Epoch 22/100\n",
      "183/183 [==============================] - 1s 3ms/step - loss: 20.6126 - mae: 3.6058 - val_loss: 21.1917 - val_mae: 3.6183\n",
      "Epoch 23/100\n",
      "183/183 [==============================] - 0s 1ms/step - loss: 20.5569 - mae: 3.5959 - val_loss: 20.8758 - val_mae: 3.5430\n",
      "Epoch 24/100\n",
      "183/183 [==============================] - 1s 3ms/step - loss: 20.4111 - mae: 3.5788 - val_loss: 21.0672 - val_mae: 3.6462\n",
      "Epoch 25/100\n",
      "183/183 [==============================] - 0s 1ms/step - loss: 20.3901 - mae: 3.5709 - val_loss: 21.0044 - val_mae: 3.5984\n",
      "Epoch 26/100\n",
      "183/183 [==============================] - 0s 1ms/step - loss: 20.4124 - mae: 3.5770 - val_loss: 20.5201 - val_mae: 3.5493\n",
      "Epoch 27/100\n",
      "183/183 [==============================] - 1s 4ms/step - loss: 20.0206 - mae: 3.5362 - val_loss: 20.4260 - val_mae: 3.5672\n",
      "Epoch 28/100\n",
      "183/183 [==============================] - 1s 4ms/step - loss: 19.8991 - mae: 3.5209 - val_loss: 20.5818 - val_mae: 3.6133\n",
      "Epoch 29/100\n",
      "183/183 [==============================] - 1s 3ms/step - loss: 19.6912 - mae: 3.4966 - val_loss: 20.5270 - val_mae: 3.5184\n",
      "Epoch 30/100\n",
      "183/183 [==============================] - 1s 4ms/step - loss: 19.8796 - mae: 3.5223 - val_loss: 20.5923 - val_mae: 3.5255\n",
      "Epoch 31/100\n",
      "183/183 [==============================] - 1s 4ms/step - loss: 19.5164 - mae: 3.4809 - val_loss: 20.6388 - val_mae: 3.5251\n",
      "Epoch 32/100\n",
      "183/183 [==============================] - 1s 3ms/step - loss: 19.4156 - mae: 3.4698 - val_loss: 20.4946 - val_mae: 3.4916\n",
      "Epoch 33/100\n",
      "183/183 [==============================] - 0s 1ms/step - loss: 19.1849 - mae: 3.4382 - val_loss: 20.9213 - val_mae: 3.6251\n",
      "Epoch 34/100\n",
      "183/183 [==============================] - 0s 2ms/step - loss: 19.2249 - mae: 3.4583 - val_loss: 20.0262 - val_mae: 3.4592\n",
      "Epoch 35/100\n",
      "183/183 [==============================] - 0s 1ms/step - loss: 19.3899 - mae: 3.4456 - val_loss: 22.4399 - val_mae: 3.7691\n",
      "Epoch 36/100\n",
      "183/183 [==============================] - 0s 1ms/step - loss: 19.1636 - mae: 3.4518 - val_loss: 20.7093 - val_mae: 3.4894\n",
      "Epoch 37/100\n",
      "183/183 [==============================] - 0s 1ms/step - loss: 19.0146 - mae: 3.4126 - val_loss: 20.6388 - val_mae: 3.4498\n",
      "Epoch 38/100\n",
      "183/183 [==============================] - 0s 1ms/step - loss: 18.9796 - mae: 3.4092 - val_loss: 20.1405 - val_mae: 3.5469\n",
      "Epoch 39/100\n",
      "183/183 [==============================] - 1s 4ms/step - loss: 19.1113 - mae: 3.3982 - val_loss: 20.6984 - val_mae: 3.4457\n",
      "Epoch 40/100\n",
      "183/183 [==============================] - 1s 3ms/step - loss: 18.7757 - mae: 3.3973 - val_loss: 20.0662 - val_mae: 3.4531\n",
      "Epoch 41/100\n",
      "183/183 [==============================] - 0s 1ms/step - loss: 18.6705 - mae: 3.3774 - val_loss: 19.8628 - val_mae: 3.4297\n",
      "Epoch 42/100\n",
      "183/183 [==============================] - 0s 1ms/step - loss: 18.4573 - mae: 3.3701 - val_loss: 20.2331 - val_mae: 3.4042\n",
      "Epoch 43/100\n",
      "183/183 [==============================] - 0s 1ms/step - loss: 18.4489 - mae: 3.3468 - val_loss: 20.1699 - val_mae: 3.4978\n",
      "Epoch 44/100\n",
      "183/183 [==============================] - 0s 1ms/step - loss: 18.4961 - mae: 3.3555 - val_loss: 19.9809 - val_mae: 3.4439\n",
      "Epoch 45/100\n",
      "183/183 [==============================] - 0s 1ms/step - loss: 18.4490 - mae: 3.3565 - val_loss: 20.0235 - val_mae: 3.4718\n",
      "Epoch 46/100\n",
      "183/183 [==============================] - 0s 1ms/step - loss: 18.3968 - mae: 3.3506 - val_loss: 19.7664 - val_mae: 3.4100\n",
      "Epoch 47/100\n",
      "183/183 [==============================] - 0s 1ms/step - loss: 18.3297 - mae: 3.3353 - val_loss: 19.5963 - val_mae: 3.4101\n",
      "Epoch 48/100\n",
      "183/183 [==============================] - 0s 1ms/step - loss: 18.1748 - mae: 3.3225 - val_loss: 19.6704 - val_mae: 3.4566\n",
      "Epoch 49/100\n",
      "183/183 [==============================] - 0s 1ms/step - loss: 18.1028 - mae: 3.3053 - val_loss: 19.6679 - val_mae: 3.4169\n",
      "Epoch 50/100\n",
      "183/183 [==============================] - 1s 4ms/step - loss: 18.0576 - mae: 3.3203 - val_loss: 20.2853 - val_mae: 3.3948\n",
      "Epoch 51/100\n",
      "183/183 [==============================] - 1s 4ms/step - loss: 18.0309 - mae: 3.3029 - val_loss: 19.3357 - val_mae: 3.3523\n",
      "Epoch 52/100\n",
      "183/183 [==============================] - 1s 4ms/step - loss: 17.8383 - mae: 3.2746 - val_loss: 19.6387 - val_mae: 3.4215\n",
      "Epoch 53/100\n",
      "183/183 [==============================] - 1s 4ms/step - loss: 17.8551 - mae: 3.2911 - val_loss: 19.8125 - val_mae: 3.4624\n",
      "Epoch 54/100\n",
      "183/183 [==============================] - 0s 3ms/step - loss: 17.8754 - mae: 3.2859 - val_loss: 19.1723 - val_mae: 3.3901\n",
      "Epoch 55/100\n",
      "183/183 [==============================] - 0s 1ms/step - loss: 17.7892 - mae: 3.2888 - val_loss: 19.3790 - val_mae: 3.3918\n",
      "Epoch 56/100\n",
      "183/183 [==============================] - 0s 1ms/step - loss: 17.9147 - mae: 3.2938 - val_loss: 19.2983 - val_mae: 3.3299\n",
      "Epoch 57/100\n",
      "183/183 [==============================] - 0s 1ms/step - loss: 17.7026 - mae: 3.2684 - val_loss: 20.0530 - val_mae: 3.3652\n",
      "Epoch 58/100\n",
      "183/183 [==============================] - 1s 4ms/step - loss: 17.4817 - mae: 3.2400 - val_loss: 19.3764 - val_mae: 3.4351\n",
      "Epoch 59/100\n",
      "183/183 [==============================] - 1s 4ms/step - loss: 17.6700 - mae: 3.2589 - val_loss: 19.9928 - val_mae: 3.3772\n",
      "Epoch 60/100\n",
      "183/183 [==============================] - 1s 4ms/step - loss: 17.6074 - mae: 3.2538 - val_loss: 19.3033 - val_mae: 3.4255\n",
      "Epoch 61/100\n"
     ]
    },
    {
     "name": "stdout",
     "output_type": "stream",
     "text": [
      "183/183 [==============================] - 1s 4ms/step - loss: 17.4317 - mae: 3.2351 - val_loss: 19.4848 - val_mae: 3.3714\n",
      "Epoch 62/100\n",
      "183/183 [==============================] - 1s 3ms/step - loss: 17.5443 - mae: 3.2410 - val_loss: 19.2590 - val_mae: 3.3605\n",
      "Epoch 63/100\n",
      "183/183 [==============================] - 0s 1ms/step - loss: 17.1569 - mae: 3.2069 - val_loss: 19.2041 - val_mae: 3.3421\n",
      "Epoch 64/100\n",
      "183/183 [==============================] - 0s 1ms/step - loss: 17.2152 - mae: 3.2128 - val_loss: 19.2700 - val_mae: 3.4073\n",
      "Epoch 65/100\n",
      "183/183 [==============================] - 0s 2ms/step - loss: 17.3551 - mae: 3.2288 - val_loss: 19.4529 - val_mae: 3.3456\n",
      "Epoch 66/100\n",
      "183/183 [==============================] - 0s 1ms/step - loss: 17.0684 - mae: 3.1901 - val_loss: 19.1519 - val_mae: 3.3984\n",
      "Epoch 67/100\n",
      "183/183 [==============================] - 0s 1ms/step - loss: 17.0900 - mae: 3.2012 - val_loss: 19.4260 - val_mae: 3.4419\n",
      "Epoch 68/100\n",
      "183/183 [==============================] - 0s 1ms/step - loss: 17.0905 - mae: 3.2046 - val_loss: 19.4161 - val_mae: 3.3021\n",
      "Epoch 69/100\n",
      "183/183 [==============================] - 0s 2ms/step - loss: 17.0004 - mae: 3.1776 - val_loss: 19.1542 - val_mae: 3.3234\n",
      "Epoch 70/100\n",
      "183/183 [==============================] - 0s 1ms/step - loss: 16.9555 - mae: 3.1772 - val_loss: 19.5405 - val_mae: 3.3602\n",
      "Epoch 71/100\n",
      "183/183 [==============================] - 0s 1ms/step - loss: 16.9302 - mae: 3.1679 - val_loss: 19.3950 - val_mae: 3.3447\n",
      "Epoch 72/100\n",
      "183/183 [==============================] - 1s 3ms/step - loss: 16.8482 - mae: 3.1669 - val_loss: 18.9037 - val_mae: 3.3051\n",
      "Epoch 73/100\n",
      "183/183 [==============================] - 1s 3ms/step - loss: 16.8190 - mae: 3.1647 - val_loss: 18.8432 - val_mae: 3.2908\n",
      "Epoch 74/100\n",
      "183/183 [==============================] - 0s 3ms/step - loss: 16.8965 - mae: 3.1811 - val_loss: 19.0953 - val_mae: 3.2863\n",
      "Epoch 75/100\n",
      "183/183 [==============================] - 0s 2ms/step - loss: 16.6404 - mae: 3.1457 - val_loss: 19.1344 - val_mae: 3.3191\n",
      "Epoch 76/100\n",
      "183/183 [==============================] - 0s 1ms/step - loss: 16.6719 - mae: 3.1446 - val_loss: 18.8156 - val_mae: 3.3166\n",
      "Epoch 77/100\n",
      "183/183 [==============================] - 0s 1ms/step - loss: 16.5596 - mae: 3.1368 - val_loss: 18.7824 - val_mae: 3.3301\n",
      "Epoch 78/100\n",
      "183/183 [==============================] - 0s 1ms/step - loss: 16.5507 - mae: 3.1353 - val_loss: 19.1617 - val_mae: 3.2777\n",
      "Epoch 79/100\n",
      "183/183 [==============================] - 0s 2ms/step - loss: 16.5362 - mae: 3.1238 - val_loss: 19.3408 - val_mae: 3.3790\n",
      "Epoch 80/100\n",
      "183/183 [==============================] - 0s 1ms/step - loss: 16.6741 - mae: 3.1337 - val_loss: 19.5168 - val_mae: 3.3743\n",
      "Epoch 81/100\n",
      "183/183 [==============================] - 0s 2ms/step - loss: 16.4662 - mae: 3.1307 - val_loss: 19.4131 - val_mae: 3.2826\n",
      "Epoch 82/100\n",
      "183/183 [==============================] - 0s 1ms/step - loss: 16.2453 - mae: 3.0968 - val_loss: 18.7832 - val_mae: 3.3185\n",
      "Epoch 83/100\n",
      "183/183 [==============================] - 0s 2ms/step - loss: 16.3878 - mae: 3.1138 - val_loss: 18.5533 - val_mae: 3.2730\n",
      "Epoch 84/100\n",
      "183/183 [==============================] - 0s 1ms/step - loss: 16.2431 - mae: 3.0986 - val_loss: 18.5124 - val_mae: 3.3032\n",
      "Epoch 85/100\n",
      "183/183 [==============================] - 0s 1ms/step - loss: 16.5635 - mae: 3.1317 - val_loss: 19.9303 - val_mae: 3.4020\n",
      "Epoch 86/100\n",
      "183/183 [==============================] - 0s 1ms/step - loss: 16.4868 - mae: 3.1211 - val_loss: 19.0043 - val_mae: 3.4138\n",
      "Epoch 87/100\n",
      "183/183 [==============================] - 0s 1ms/step - loss: 16.1135 - mae: 3.0835 - val_loss: 18.5777 - val_mae: 3.2892\n",
      "Epoch 88/100\n",
      "183/183 [==============================] - 0s 2ms/step - loss: 16.2828 - mae: 3.0899 - val_loss: 19.4267 - val_mae: 3.4111\n",
      "Epoch 89/100\n",
      "183/183 [==============================] - 0s 1ms/step - loss: 16.4516 - mae: 3.0901 - val_loss: 19.0974 - val_mae: 3.2503\n",
      "Epoch 90/100\n",
      "183/183 [==============================] - 0s 1ms/step - loss: 16.0546 - mae: 3.0697 - val_loss: 19.3648 - val_mae: 3.3054\n",
      "Epoch 91/100\n",
      "183/183 [==============================] - 0s 1ms/step - loss: 16.0345 - mae: 3.0650 - val_loss: 18.4018 - val_mae: 3.2301\n",
      "Epoch 92/100\n",
      "183/183 [==============================] - 0s 1ms/step - loss: 16.1006 - mae: 3.0809 - val_loss: 19.0017 - val_mae: 3.3195\n",
      "Epoch 93/100\n",
      "183/183 [==============================] - 0s 1ms/step - loss: 15.9515 - mae: 3.0633 - val_loss: 19.1238 - val_mae: 3.2572\n",
      "Epoch 94/100\n",
      "183/183 [==============================] - 0s 1ms/step - loss: 15.8070 - mae: 3.0458 - val_loss: 18.8249 - val_mae: 3.2190\n",
      "Epoch 95/100\n",
      "183/183 [==============================] - 0s 1ms/step - loss: 15.8396 - mae: 3.0573 - val_loss: 19.0369 - val_mae: 3.2533\n",
      "Epoch 96/100\n",
      "183/183 [==============================] - 1s 4ms/step - loss: 16.2604 - mae: 3.0699 - val_loss: 18.5709 - val_mae: 3.2676\n",
      "Epoch 97/100\n",
      "183/183 [==============================] - 1s 4ms/step - loss: 15.7989 - mae: 3.0556 - val_loss: 18.5519 - val_mae: 3.2733\n",
      "Epoch 98/100\n",
      "183/183 [==============================] - 1s 4ms/step - loss: 15.7676 - mae: 3.0454 - val_loss: 18.9723 - val_mae: 3.2966\n",
      "Epoch 99/100\n",
      "183/183 [==============================] - 1s 4ms/step - loss: 15.8576 - mae: 3.0590 - val_loss: 19.6389 - val_mae: 3.2970\n",
      "Epoch 100/100\n",
      "183/183 [==============================] - 1s 4ms/step - loss: 15.6116 - mae: 3.0235 - val_loss: 18.5402 - val_mae: 3.2653\n"
     ]
    }
   ],
   "source": [
    "history = model.fit(X_train_scaled, y_train, validation_split = 0.2, epochs = 100)"
   ]
  },
  {
   "cell_type": "code",
   "execution_count": 6,
   "id": "cbf14998",
   "metadata": {},
   "outputs": [
    {
     "data": {
      "image/png": "[encoded data removed]",
      "text/plain": [
       "<Figure size 432x288 with 1 Axes>"
      ]
     },
     "metadata": {
      "needs_background": "light"
     },
     "output_type": "display_data"
    },
    {
     "data": {
      "image/png": "[encoded data removed]",
      "text/plain": [
       "<Figure size 432x288 with 1 Axes>"
      ]
     },
     "metadata": {
      "needs_background": "light"
     },
     "output_type": "display_data"
    }
   ],
   "source": [
    "#Plotting loss and validation loss\n",
    "from matplotlib import pyplot as plt \n",
    "loss = history.history['loss']\n",
    "val_loss = history.history['val_loss']\n",
    "epochs = range(1, len(loss) + 1)\n",
    "plt.plot(epochs, loss, 'y', label = 'Training loss')\n",
    "plt.plot(epochs, val_loss, 'r', label = 'Validation Loss')\n",
    "plt.title('Training and Validation Loss')\n",
    "plt.xlabel('Epochs')\n",
    "plt.ylabel('Loss')\n",
    "plt.legend()\n",
    "plt.show()\n",
    "\n",
    "acc = history.history['mae']\n",
    "val_acc = history.history['val_mae']\n",
    "plt.plot(epochs, acc, 'y', label = 'Training MAE')\n",
    "plt.plot(epochs, val_acc, 'r', label = 'Validation MAE')\n",
    "plt.xlabel('Epochs')\n",
    "plt.ylabel('Accuracy')\n",
    "plt.legend()\n",
    "plt.show()"
   ]
  },
  {
   "cell_type": "code",
   "execution_count": 7,
   "id": "fa979a51",
   "metadata": {},
   "outputs": [
    {
     "name": "stdout",
     "output_type": "stream",
     "text": [
      "Predicted values are:  [[7.939038 ]\n",
      " [5.405216 ]\n",
      " [7.367555 ]\n",
      " ...\n",
      " [5.3428907]\n",
      " [1.6583176]\n",
      " [2.406139 ]]\n",
      "Real values are:  [ 1.95   1.715 14.726 ... 15.887  2.     2.383]\n"
     ]
    }
   ],
   "source": [
    "#Predict on test data \n",
    "predictions = model.predict(X_test_scaled)\n",
    "print(\"Predicted values are: \", predictions)\n",
    "print(\"Real values are: \", y_test)"
   ]
  },
  {
   "cell_type": "code",
   "execution_count": 8,
   "id": "56900892",
   "metadata": {},
   "outputs": [
    {
     "name": "stdout",
     "output_type": "stream",
     "text": [
      "58/58 [==============================] - 0s 842us/step - loss: 19.8720 - mae: 3.3877\n",
      "Mean squared error from neural net:  19.872024536132812\n",
      "Mean absolute error from neural net:  3.387695074081421\n"
     ]
    }
   ],
   "source": [
    "# Mean Square Error and Mean absolute Error \n",
    "mse_neural, mae_neural = model.evaluate(X_test_scaled, y_test)\n",
    "print(\"Mean squared error from neural net: \", mse_neural)\n",
    "print(\"Mean absolute error from neural net: \", mae_neural)"
   ]
  },
  {
   "cell_type": "markdown",
   "id": "662af3b3",
   "metadata": {},
   "source": [
    "Regression using Multiple Linear Regression"
   ]
  },
  {
   "cell_type": "code",
   "execution_count": 9,
   "id": "944edbc2",
   "metadata": {},
   "outputs": [
    {
     "name": "stdout",
     "output_type": "stream",
     "text": [
      "Mean squared error from multiple linear regression:  27.597227106999483\n",
      "Mean absolute error from multiple linear regression:  4.371652436946849\n"
     ]
    }
   ],
   "source": [
    "from sklearn.linear_model import LinearRegression\n",
    "from sklearn.metrics import mean_squared_error, mean_absolute_error\n",
    "regressor = LinearRegression()\n",
    "regressor.fit(X_train_scaled, y_train)\n",
    "y_pred_mlr = regressor.predict(X_test_scaled)\n",
    "mse_mlr = mean_squared_error(y_test, y_pred_mlr)\n",
    "mae_mlr = mean_absolute_error(y_test, y_pred_mlr)\n",
    "print(\"Mean squared error from multiple linear regression: \", mse_mlr)\n",
    "print(\"Mean absolute error from multiple linear regression: \", mae_mlr )"
   ]
  },
  {
   "cell_type": "markdown",
   "id": "7244e3b9",
   "metadata": {},
   "source": [
    "Random Forest Regression "
   ]
  },
  {
   "cell_type": "code",
   "execution_count": 10,
   "id": "5f1ab71c",
   "metadata": {},
   "outputs": [
    {
     "name": "stdout",
     "output_type": "stream",
     "text": [
      "Mean squared error from Random Forest:  17.846232797436397\n",
      "Mean absolute error from Random Forest:  3.039468806921676\n"
     ]
    }
   ],
   "source": [
    "from sklearn.ensemble import RandomForestRegressor \n",
    "model_rf = RandomForestRegressor(n_estimators = 30, random_state = 30)\n",
    "model_rf.fit(X_train_scaled, y_train)\n",
    "y_pred_rf = model_rf.predict(X_test_scaled)\n",
    "mse_rf = mean_squared_error(y_test, y_pred_rf)\n",
    "mae_rf = mean_absolute_error(y_test, y_pred_rf)\n",
    "print(\"Mean squared error from Random Forest: \", mse_rf)\n",
    "print(\"Mean absolute error from Random Forest: \", mae_rf)\n"
   ]
  }
 ],
 "metadata": {
  "kernelspec": {
   "display_name": "Python 3 (ipykernel)",
   "language": "python",
   "name": "python3"
  },
  "language_info": {
   "codemirror_mode": {
    "name": "ipython",
    "version": 3
   },
   "file_extension": ".py",
   "mimetype": "text/x-python",
   "name": "python",
   "nbconvert_exporter": "python",
   "pygments_lexer": "ipython3",
   "version": "3.9.7"
  }
 },
 "nbformat": 4,
 "nbformat_minor": 5
}
