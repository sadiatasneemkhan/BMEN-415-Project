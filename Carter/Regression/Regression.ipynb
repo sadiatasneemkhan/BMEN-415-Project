{
 "cells": [
  {
   "cell_type": "code",
   "execution_count": 5,
   "metadata": {},
   "outputs": [],
   "source": [
    "import numpy as np  # Importing NumPy library\n",
    "import pandas as pd  # Importing Pandas library\n",
    "import matplotlib.pyplot as plt  # Importing Matplotlib library's \"pyplot\" module\n",
    "import seaborn as sns  # Imorting Seaborn library\n",
    "from matplotlib.colors import ListedColormap\n",
    "from sklearn.impute import SimpleImputer\n",
    "from sklearn.model_selection import train_test_split\n",
    "from sklearn import *\n",
    "from sklearn.metrics import mean_absolute_error\n",
    "from sklearn.metrics import RocCurveDisplay\n",
    "from sklearn.metrics import mean_squared_error\n",
    "from sklearn.metrics import r2_score"
   ]
  },
  {
   "cell_type": "markdown",
   "metadata": {},
   "source": [
    "Data Visualization"
   ]
  },
  {
   "cell_type": "code",
   "execution_count": 7,
   "metadata": {},
   "outputs": [],
   "source": [
    "DataRaw = pd.read_csv(\"LRtrain.csv\")\n",
    "dataSet = DataRaw.drop(columns = [\"mass_npea\", \"size_npear\", \"malign_ratio\"])\n",
    "dataSet.columns = [\"DamageSize\", \"ExposedArea\", \"stdDev.Malignancy\", \"MalignancyError\", \"MalignancyPenalty\", \"DamageRatio\", \"TumorSize\"]\n",
    "\n",
    "names = list(dataSet.columns)\n",
    "\n",
    "zero_not_accepted = [\"DamageSize\", \"ExposedArea\"]\n",
    "for column in zero_not_accepted:\n",
    "    mean = int(dataSet[column].mean(skipna=True))\n",
    "    dataSet[column] = dataSet[column].replace(0, mean)\n",
    "X = dataSet.drop(columns = [\"TumorSize\"])\n",
    "Y = DataRaw.loc[:,['tumor_size']]\n",
    "\n",
    "fig, axs = plt.subplots(figsize=(8,8))\n",
    "sns.heatmap(data = DataRaw.corr(), annot=True, linewidths=0.5)\n",
    "sns.displot(DataRaw)\n"
   ]
  },
  {
   "cell_type": "markdown",
   "metadata": {},
   "source": [
    "Regression Models - SGD Regression, LARS Lasso, and Kernal Ridge Regression"
   ]
  },
  {
   "cell_type": "code",
   "execution_count": 3,
   "metadata": {},
   "outputs": [],
   "source": [
    "from sklearn.linear_model import LassoLars\n",
    "from sklearn.kernel_ridge import KernelRidge\n",
    "from sklearn.svm import SVR\n",
    "xTrain, xTest, yTrain, yTest = train_test_split(X, Y, random_state=41, test_size=0.13)"
   ]
  },
  {
   "cell_type": "code",
   "execution_count": 6,
   "metadata": {},
   "outputs": [
    {
     "name": "stderr",
     "output_type": "stream",
     "text": [
      "C:\\Users\\Carte\\AppData\\Local\\Programs\\Python\\Python310\\lib\\site-packages\\sklearn\\utils\\validation.py:993: DataConversionWarning: A column-vector y was passed when a 1d array was expected. Please change the shape of y to (n_samples, ), for example using ravel().\n",
      "  y = column_or_1d(y, warn=True)\n"
     ]
    },
    {
     "name": "stdout",
     "output_type": "stream",
     "text": [
      "==============================\n",
      "SVR\n",
      "****Result****\n",
      "R2:  -17.4\n",
      "Mean Squared Error:  42.24\n",
      "Mean Absolute Error:  5.12\n",
      "==============================\n",
      "LassoLars\n",
      "****Result****\n",
      "R2:  18.58\n",
      "Mean Squared Error:  29.3\n",
      "Mean Absolute Error:  4.62\n",
      "==============================\n",
      "KernelRidge\n",
      "****Result****\n",
      "R2:  15.31\n",
      "Mean Squared Error:  30.48\n",
      "Mean Absolute Error:  4.71\n"
     ]
    },
    {
     "name": "stderr",
     "output_type": "stream",
     "text": [
      "C:\\Users\\Carte\\AppData\\Local\\Programs\\Python\\Python310\\lib\\site-packages\\sklearn\\linear_model\\_ridge.py:194: LinAlgWarning: Ill-conditioned matrix (rcond=7.26386e-19): result may not be accurate.\n",
      "  dual_coef = linalg.solve(K, y, sym_pos=True, overwrite_a=False)\n"
     ]
    }
   ],
   "source": [
    "Regressor = [SVR(C=1.0, epsilon = 0.2), LassoLars(alpha=0.1, normalize=False), KernelRidge(alpha=1.0)]\n",
    "for reg in Regressor:\n",
    "    reg.fit(xTrain, yTrain)\n",
    "    name = reg.__class__.__name__\n",
    "    print('='*30)\n",
    "    print(name)\n",
    "    print(\"****Result****\")\n",
    "    pred = reg.predict(xTest)\n",
    "    r2score = round((r2_score(yTest,pred)*100),2)\n",
    "    MSE = round(mean_squared_error(yTest, pred),2)\n",
    "    ASE = round(mean_absolute_error(yTest, pred),2)\n",
    "    \n",
    "    print('R2: ', r2score)\n",
    "    print('Mean Squared Error: ', MSE)\n",
    "    print('Mean Absolute Error: ', ASE)\n"
   ]
  }
 ],
 "metadata": {
  "interpreter": {
   "hash": "0477a7bd09f9d024fc6f018c4cec4deb6cad7518981b168f5dc4f62a47a4dc4b"
  },
  "kernelspec": {
   "display_name": "Python 3.10.2 64-bit",
   "language": "python",
   "name": "python3"
  },
  "language_info": {
   "codemirror_mode": {
    "name": "ipython",
    "version": 3
   },
   "file_extension": ".py",
   "mimetype": "text/x-python",
   "name": "python",
   "nbconvert_exporter": "python",
   "pygments_lexer": "ipython3",
   "version": "3.10.2"
  },
  "orig_nbformat": 4
 },
 "nbformat": 4,
 "nbformat_minor": 2
}
