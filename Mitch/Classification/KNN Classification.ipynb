{
 "cells": [
  {
   "cell_type": "code",
   "execution_count": 45,
   "id": "70a6cfa8",
   "metadata": {},
   "outputs": [
    {
     "name": "stdout",
     "output_type": "stream",
     "text": [
      "if n_neighbours is 1:\n",
      "Mean sq error: 0.3645\n",
      "Score: 0.6355\n",
      "if n_neighbours is 3:\n",
      "Mean sq error: 0.3498\n",
      "Score: 0.6502\n",
      "if n_neighbours is 5:\n",
      "Mean sq error: 0.3251\n",
      "Score: 0.6749\n",
      "if n_neighbours is 7:\n",
      "Mean sq error: 0.3251\n",
      "Score: 0.6749\n",
      "if n_neighbours is 9:\n",
      "Mean sq error: 0.3005\n",
      "Score: 0.6995\n",
      "if n_neighbours is 11:\n",
      "Mean sq error: 0.3300\n",
      "Score: 0.6700\n",
      "if n_neighbours is 13:\n",
      "Mean sq error: 0.3103\n",
      "Score: 0.6897\n",
      "if n_neighbours is 15:\n",
      "Mean sq error: 0.3153\n",
      "Score: 0.6847\n",
      "------------------------------------------\n",
      "\n",
      "Mean sq error: 0.3005\n",
      "Score: 0.6995\n",
      "[[117  14]\n",
      " [ 47  25]]\n"
     ]
    }
   ],
   "source": [
    "import numpy as np \n",
    "import matplotlib.pyplot as plt\n",
    "import pandas as pd \n",
    "from sklearn.model_selection import train_test_split\n",
    "import seaborn as sns\n",
    "from sklearn.neighbors import KNeighborsClassifier\n",
    "from sklearn.neighbors import KNeighborsRegressor\n",
    "from sklearn.metrics import confusion_matrix\n",
    "\n",
    "dataset = pd.read_excel('classification_data.xlsx')\n",
    "x =dataset.iloc[:,0:9]\n",
    "y =dataset.iloc[:,9]\n",
    "x_train, x_test, y_train, y_test = train_test_split(x,y,test_size=0.33, random_state=42)\n",
    "\n",
    "for i in range(1,17,2):\n",
    "    knn = KNeighborsClassifier(n_neighbors = i)\n",
    "    knn.fit(x_train,y_train)\n",
    "    knn.score(x_test,y_test)\n",
    "    y_pred = knn.predict(x_test)\n",
    "    print(\"if n_neighbours is \"+ str(i)+\":\")\n",
    "    print(\"Mean sq error: %.4f\" % np.mean((y_pred-y_test) ** 2))\n",
    "    print('Score: %.4f' % knn.score(x_test, y_test))\n",
    "print(\"------------------------------------------\\n\")\n",
    "#observe output; 9 was the best number of neighbours to use\n",
    "\n",
    "knn = KNeighborsClassifier(n_neighbors = 9)\n",
    "knn.fit(x_train,y_train)\n",
    "knn.score(x_test,y_test)\n",
    "y_pred = knn.predict(x_test)\n",
    "print(\"Mean sq error: %.4f\" % np.mean((y_pred-y_test) ** 2))\n",
    "print('Score: %.4f' % knn.score(x_test, y_test))\n",
    "\n",
    "#confusion (the matrix, not the mindset):\n",
    "conmat = confusion_matrix(y_test, y_pred)\n",
    "print(conmat)"
   ]
  },
  {
   "cell_type": "code",
   "execution_count": null,
   "id": "41d333bc",
   "metadata": {},
   "outputs": [],
   "source": []
  }
 ],
 "metadata": {
  "kernelspec": {
   "display_name": "Python 3 (ipykernel)",
   "language": "python",
   "name": "python3"
  },
  "language_info": {
   "codemirror_mode": {
    "name": "ipython",
    "version": 3
   },
   "file_extension": ".py",
   "mimetype": "text/x-python",
   "name": "python",
   "nbconvert_exporter": "python",
   "pygments_lexer": "ipython3",
   "version": "3.9.7"
  }
 },
 "nbformat": 4,
 "nbformat_minor": 5
}
