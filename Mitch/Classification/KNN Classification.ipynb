{
 "cells": [
  {
   "cell_type": "code",
   "execution_count": 9,
   "id": "7bcd3fd2",
   "metadata": {},
   "outputs": [
    {
     "name": "stdout",
     "output_type": "stream",
     "text": [
      "if n_neighbours is 1:\n",
      "Mean sq error: 0.3496\n",
      "Accuracy Score: 0.6504\n",
      "\n",
      "if n_neighbours is 3:\n",
      "Mean sq error: 0.3659\n",
      "Accuracy Score: 0.6341\n",
      "\n",
      "if n_neighbours is 5:\n",
      "Mean sq error: 0.3659\n",
      "Accuracy Score: 0.6341\n",
      "\n",
      "if n_neighbours is 7:\n",
      "Mean sq error: 0.3577\n",
      "Accuracy Score: 0.6423\n",
      "\n",
      "if n_neighbours is 9:\n",
      "Mean sq error: 0.3008\n",
      "Accuracy Score: 0.6992\n",
      "\n",
      "if n_neighbours is 11:\n",
      "Mean sq error: 0.3415\n",
      "Accuracy Score: 0.6585\n",
      "\n",
      "if n_neighbours is 13:\n",
      "Mean sq error: 0.3659\n",
      "Accuracy Score: 0.6341\n",
      "\n",
      "if n_neighbours is 15:\n",
      "Mean sq error: 0.3333\n",
      "Accuracy Score: 0.6667\n",
      "\n",
      "------------------------------------------\n",
      "\n",
      "Mean sq error: 0.30081301\n",
      "Accuracy Score: 0.69918699\n",
      "[[67 10]\n",
      " [27 19]]\n"
     ]
    },
    {
     "data": {
      "text/plain": [
       "Text(33.0, 0.5, 'Actual')"
      ]
     },
     "execution_count": 9,
     "metadata": {},
     "output_type": "execute_result"
    },
    {
     "data": {
      "image/png": "[encoded data removed]",
      "text/plain": [
       "<Figure size 432x288 with 2 Axes>"
      ]
     },
     "metadata": {
      "needs_background": "light"
     },
     "output_type": "display_data"
    }
   ],
   "source": [
    "#Mitchell Rhead 10185289\n",
    "#April 2022\n",
    "import numpy as np \n",
    "import matplotlib.pyplot as plt\n",
    "import pandas as pd \n",
    "from sklearn.model_selection import train_test_split\n",
    "import seaborn as sns\n",
    "from sklearn.neighbors import KNeighborsClassifier\n",
    "from sklearn.neighbors import KNeighborsRegressor\n",
    "from sklearn.metrics import confusion_matrix\n",
    "\n",
    "dataset = pd.read_excel('classification_data.xlsx')\n",
    "x =dataset.iloc[:,0:9]\n",
    "y =dataset.iloc[:,9]\n",
    "x_train, x_test, y_train, y_test = train_test_split(x,y,test_size=0.2, random_state=42)\n",
    "\n",
    "for i in range(1,17,2):\n",
    "    knn = KNeighborsClassifier(n_neighbors = i)\n",
    "    knn.fit(x_train,y_train)\n",
    "    knn.score(x_test,y_test)\n",
    "    y_pred = knn.predict(x_test)\n",
    "    print(\"if n_neighbours is \"+ str(i)+\":\")\n",
    "    print(\"Mean sq error: %.4f\" % np.mean((y_pred-y_test) ** 2))\n",
    "    print('Accuracy Score: %.4f\\n' % knn.score(x_test, y_test))\n",
    "print(\"------------------------------------------\\n\")\n",
    "#observe output; 9 was the best number of neighbours to use\n",
    "\n",
    "knn = KNeighborsClassifier(n_neighbors = 9)\n",
    "knn.fit(x_train,y_train)\n",
    "knn.score(x_test,y_test)\n",
    "y_pred = knn.predict(x_test)\n",
    "print(\"Mean sq error: %.8f\" % np.mean((y_pred-y_test) ** 2))\n",
    "print('Accuracy Score: %.8f' % knn.score(x_test, y_test))\n",
    "\n",
    "#confusion (the matrix, not the mindset):\n",
    "conmat = confusion_matrix(y_test, y_pred)\n",
    "print(conmat)\n",
    "conmat = sns.heatmap(conmat, annot=True)\n",
    "conmat.set_title('KNN Confusion Matrix')\n",
    "conmat.set_xlabel('Predicted')\n",
    "conmat.set_ylabel('Actual')"
   ]
  },
  {
   "cell_type": "code",
   "execution_count": null,
   "id": "1c4354c9",
   "metadata": {},
   "outputs": [],
   "source": []
  }
 ],
 "metadata": {
  "kernelspec": {
   "display_name": "Python 3 (ipykernel)",
   "language": "python",
   "name": "python3"
  },
  "language_info": {
   "codemirror_mode": {
    "name": "ipython",
    "version": 3
   },
   "file_extension": ".py",
   "mimetype": "text/x-python",
   "name": "python",
   "nbconvert_exporter": "python",
   "pygments_lexer": "ipython3",
   "version": "3.9.7"
  }
 },
 "nbformat": 4,
 "nbformat_minor": 5
}
