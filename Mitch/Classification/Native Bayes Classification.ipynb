{
 "cells": [
  {
   "cell_type": "code",
   "execution_count": 4,
   "id": "fd6f8284",
   "metadata": {},
   "outputs": [
    {
     "name": "stdout",
     "output_type": "stream",
     "text": [
      "Mean sq error: 0.2414\n",
      "Score: 0.7586\n",
      "[[112  19]\n",
      " [ 30  42]]\n"
     ]
    }
   ],
   "source": [
    "import numpy as np \n",
    "import matplotlib.pyplot as plt\n",
    "import pandas as pd \n",
    "from sklearn.model_selection import train_test_split\n",
    "from sklearn.naive_bayes import GaussianNB\n",
    "import seaborn as sns\n",
    "from sklearn.metrics import confusion_matrix\n",
    "\n",
    "dataset = pd.read_excel('classification_data.xlsx')\n",
    "#Data features\n",
    "#x0 = dataset[['mass_npea','size_npear','malign_ratio','damage_size','exposed_area','std_dev_malign','err_malign','malign_penalty','damage_ratio']]\n",
    "#y0 = dataset[['tumor_size']]\n",
    "X =dataset.iloc[:,0:9]\n",
    "y =dataset.iloc[:,9]\n",
    "X_train, X_test, y_train, y_test = train_test_split(X,y,test_size=0.33, random_state=42)\n",
    "gnb = GaussianNB() \n",
    "gnb.fit(X_train, y_train)\n",
    "y_pred = gnb.predict(X_test)\n",
    "print(\"Mean sq error: %.4f\" % np.mean((y_pred-y_test) ** 2))\n",
    "print('Score: %.4f' % gnb.score(X_test, y_test))\n",
    "#confusion:\n",
    "conmat = confusion_matrix(y_test, y_pred)\n",
    "print(conmat)"
   ]
  },
  {
   "cell_type": "code",
   "execution_count": null,
   "id": "15697574",
   "metadata": {},
   "outputs": [],
   "source": []
  }
 ],
 "metadata": {
  "kernelspec": {
   "display_name": "Python 3 (ipykernel)",
   "language": "python",
   "name": "python3"
  },
  "language_info": {
   "codemirror_mode": {
    "name": "ipython",
    "version": 3
   },
   "file_extension": ".py",
   "mimetype": "text/x-python",
   "name": "python",
   "nbconvert_exporter": "python",
   "pygments_lexer": "ipython3",
   "version": "3.9.7"
  }
 },
 "nbformat": 4,
 "nbformat_minor": 5
}
