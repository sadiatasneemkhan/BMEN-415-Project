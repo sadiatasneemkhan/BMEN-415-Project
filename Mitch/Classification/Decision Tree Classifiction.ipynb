{
 "cells": [
  {
   "cell_type": "code",
   "execution_count": 27,
   "id": "cc65f2c6",
   "metadata": {},
   "outputs": [
    {
     "name": "stdout",
     "output_type": "stream",
     "text": [
      "Mean sq error: 0.26016260\n",
      "Accuracy Score: 0.73983740\n"
     ]
    },
    {
     "data": {
      "text/plain": [
       "Text(33.0, 0.5, 'Actual')"
      ]
     },
     "execution_count": 27,
     "metadata": {},
     "output_type": "execute_result"
    },
    {
     "data": {
      "image/png": "[encoded data removed]",
      "text/plain": [
       "<Figure size 432x288 with 2 Axes>"
      ]
     },
     "metadata": {
      "needs_background": "light"
     },
     "output_type": "display_data"
    }
   ],
   "source": [
    "#Mitchell Rhead 10185289\n",
    "#April 2022\n",
    "\n",
    "import numpy as np \n",
    "import matplotlib.pyplot as plt\n",
    "import pandas as pd \n",
    "from sklearn.model_selection import train_test_split\n",
    "from sklearn.tree import DecisionTreeClassifier\n",
    "from sklearn import tree\n",
    "import seaborn as sns\n",
    "from sklearn.metrics import confusion_matrix\n",
    "\n",
    "dataset = pd.read_excel('classification_data.xlsx')\n",
    "X =dataset.iloc[:,0:9]\n",
    "y =dataset.iloc[:,9]\n",
    "X_train, X_test, y_train, y_test = train_test_split(X,y,test_size=0.2, random_state=42)\n",
    "\n",
    "dtc = DecisionTreeClassifier() \n",
    "dtc.fit(X_train, y_train)\n",
    "y_pred = dtc.predict(X_test)\n",
    "print(\"Mean sq error: %.8f\" % np.mean((y_pred-y_test) ** 2))\n",
    "print('Accuracy Score: %.8f' % dtc.score(X_test, y_test))\n",
    "\n",
    "#confusion:\n",
    "conmat = confusion_matrix(y_test, y_pred)\n",
    "conmat = sns.heatmap(conmat, annot=True)\n",
    "conmat.set_title('Decision Tree Confusion Matrix')\n",
    "conmat.set_xlabel('Predicted')\n",
    "conmat.set_ylabel('Actual')"
   ]
  },
  {
   "cell_type": "code",
   "execution_count": null,
   "id": "6e60f823",
   "metadata": {},
   "outputs": [],
   "source": []
  }
 ],
 "metadata": {
  "kernelspec": {
   "display_name": "Python 3 (ipykernel)",
   "language": "python",
   "name": "python3"
  },
  "language_info": {
   "codemirror_mode": {
    "name": "ipython",
    "version": 3
   },
   "file_extension": ".py",
   "mimetype": "text/x-python",
   "name": "python",
   "nbconvert_exporter": "python",
   "pygments_lexer": "ipython3",
   "version": "3.9.7"
  }
 },
 "nbformat": 4,
 "nbformat_minor": 5
}
