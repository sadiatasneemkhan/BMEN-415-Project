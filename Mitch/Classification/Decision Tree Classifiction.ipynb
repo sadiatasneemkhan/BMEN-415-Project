{
 "cells": [
  {
   "cell_type": "code",
   "execution_count": 15,
   "id": "cc65f2c6",
   "metadata": {},
   "outputs": [
    {
     "name": "stdout",
     "output_type": "stream",
     "text": [
      "Mean sq error: 0.2808\n",
      "Score: 0.7192\n",
      "[[105  26]\n",
      " [ 31  41]]\n"
     ]
    }
   ],
   "source": [
    "#Mitchell Rhead 10185289\n",
    "#April 2022\n",
    "\n",
    "import numpy as np \n",
    "import matplotlib.pyplot as plt\n",
    "import pandas as pd \n",
    "from sklearn.model_selection import train_test_split\n",
    "from sklearn.tree import DecisionTreeClassifier\n",
    "from sklearn import tree\n",
    "import seaborn as sns\n",
    "from sklearn.metrics import confusion_matrix\n",
    "\n",
    "dataset = pd.read_excel('classification_data.xlsx')\n",
    "X =dataset.iloc[:,0:9]\n",
    "y =dataset.iloc[:,9]\n",
    "X_train, X_test, y_train, y_test = train_test_split(X,y,test_size=0.33, random_state=42)\n",
    "\n",
    "dtc = DecisionTreeClassifier() \n",
    "dtc.fit(X_train, y_train)\n",
    "y_pred = dtc.predict(X_test)\n",
    "print(\"Mean sq error: %.4f\" % np.mean((y_pred-y_test) ** 2))\n",
    "print('Score: %.4f' % dtc.score(X_test, y_test))\n",
    "#confusion:\n",
    "conmat = confusion_matrix(y_test, y_pred)\n",
    "print(conmat)"
   ]
  },
  {
   "cell_type": "code",
   "execution_count": null,
   "id": "8282bdd2",
   "metadata": {},
   "outputs": [],
   "source": []
  },
  {
   "cell_type": "code",
   "execution_count": null,
   "id": "ea2dd2f3",
   "metadata": {},
   "outputs": [],
   "source": []
  }
 ],
 "metadata": {
  "kernelspec": {
   "display_name": "Python 3 (ipykernel)",
   "language": "python",
   "name": "python3"
  },
  "language_info": {
   "codemirror_mode": {
    "name": "ipython",
    "version": 3
   },
   "file_extension": ".py",
   "mimetype": "text/x-python",
   "name": "python",
   "nbconvert_exporter": "python",
   "pygments_lexer": "ipython3",
   "version": "3.9.7"
  }
 },
 "nbformat": 4,
 "nbformat_minor": 5
}
