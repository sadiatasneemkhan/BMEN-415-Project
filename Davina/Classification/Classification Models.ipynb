{
 "cells": [
  {
   "cell_type": "markdown",
   "metadata": {},
   "source": [
    "# Classification Models"
   ]
  },
  {
   "cell_type": "code",
   "execution_count": 1,
   "metadata": {},
   "outputs": [],
   "source": [
    "import numpy as np\n",
    "import pandas as pd\n",
    "import matplotlib.pyplot as plt\n",
    "import seaborn as sns \n",
    "from sklearn.model_selection import train_test_split\n",
    "\n",
    "from sklearn.metrics import confusion_matrix\n",
    "from sklearn.metrics import accuracy_score"
   ]
  },
  {
   "cell_type": "code",
   "execution_count": 2,
   "metadata": {
    "scrolled": true
   },
   "outputs": [
    {
     "data": {
      "text/html": [
       "<div>\n",
       "<style scoped>\n",
       "    .dataframe tbody tr th:only-of-type {\n",
       "        vertical-align: middle;\n",
       "    }\n",
       "\n",
       "    .dataframe tbody tr th {\n",
       "        vertical-align: top;\n",
       "    }\n",
       "\n",
       "    .dataframe thead th {\n",
       "        text-align: right;\n",
       "    }\n",
       "</style>\n",
       "<table border=\"1\" class=\"dataframe\">\n",
       "  <thead>\n",
       "    <tr style=\"text-align: right;\">\n",
       "      <th></th>\n",
       "      <th>p_id</th>\n",
       "      <th>no_times_pregnant</th>\n",
       "      <th>glucose_concentration</th>\n",
       "      <th>blood_pressure</th>\n",
       "      <th>skin_fold_thickness</th>\n",
       "      <th>serum_insulin</th>\n",
       "      <th>bmi</th>\n",
       "      <th>diabetes pedigree</th>\n",
       "      <th>age</th>\n",
       "      <th>diabetes</th>\n",
       "    </tr>\n",
       "  </thead>\n",
       "  <tbody>\n",
       "    <tr>\n",
       "      <th>0</th>\n",
       "      <td>316</td>\n",
       "      <td>2</td>\n",
       "      <td>112</td>\n",
       "      <td>68</td>\n",
       "      <td>22</td>\n",
       "      <td>94</td>\n",
       "      <td>34.1</td>\n",
       "      <td>0.315</td>\n",
       "      <td>26</td>\n",
       "      <td>0</td>\n",
       "    </tr>\n",
       "    <tr>\n",
       "      <th>1</th>\n",
       "      <td>25</td>\n",
       "      <td>11</td>\n",
       "      <td>143</td>\n",
       "      <td>94</td>\n",
       "      <td>33</td>\n",
       "      <td>146</td>\n",
       "      <td>36.6</td>\n",
       "      <td>0.254</td>\n",
       "      <td>51</td>\n",
       "      <td>1</td>\n",
       "    </tr>\n",
       "    <tr>\n",
       "      <th>2</th>\n",
       "      <td>710</td>\n",
       "      <td>2</td>\n",
       "      <td>93</td>\n",
       "      <td>64</td>\n",
       "      <td>32</td>\n",
       "      <td>160</td>\n",
       "      <td>38.0</td>\n",
       "      <td>0.674</td>\n",
       "      <td>23</td>\n",
       "      <td>1</td>\n",
       "    </tr>\n",
       "    <tr>\n",
       "      <th>3</th>\n",
       "      <td>658</td>\n",
       "      <td>1</td>\n",
       "      <td>120</td>\n",
       "      <td>80</td>\n",
       "      <td>48</td>\n",
       "      <td>200</td>\n",
       "      <td>38.9</td>\n",
       "      <td>1.162</td>\n",
       "      <td>41</td>\n",
       "      <td>0</td>\n",
       "    </tr>\n",
       "    <tr>\n",
       "      <th>4</th>\n",
       "      <td>542</td>\n",
       "      <td>3</td>\n",
       "      <td>128</td>\n",
       "      <td>72</td>\n",
       "      <td>25</td>\n",
       "      <td>190</td>\n",
       "      <td>32.4</td>\n",
       "      <td>0.549</td>\n",
       "      <td>27</td>\n",
       "      <td>1</td>\n",
       "    </tr>\n",
       "  </tbody>\n",
       "</table>\n",
       "</div>"
      ],
      "text/plain": [
       "   p_id  no_times_pregnant  glucose_concentration  blood_pressure  \\\n",
       "0   316                  2                    112              68   \n",
       "1    25                 11                    143              94   \n",
       "2   710                  2                     93              64   \n",
       "3   658                  1                    120              80   \n",
       "4   542                  3                    128              72   \n",
       "\n",
       "   skin_fold_thickness  serum_insulin   bmi  diabetes pedigree  age  diabetes  \n",
       "0                   22             94  34.1              0.315   26         0  \n",
       "1                   33            146  36.6              0.254   51         1  \n",
       "2                   32            160  38.0              0.674   23         1  \n",
       "3                   48            200  38.9              1.162   41         0  \n",
       "4                   25            190  32.4              0.549   27         1  "
      ]
     },
     "execution_count": 2,
     "metadata": {},
     "output_type": "execute_result"
    }
   ],
   "source": [
    "data = pd.read_csv(\"train.csv\")\n",
    "X = data.drop(columns = [\"diabetes\"]).values\n",
    "y = data['diabetes'].values\n",
    "data.head()"
   ]
  },
  {
   "cell_type": "code",
   "execution_count": 3,
   "metadata": {},
   "outputs": [],
   "source": [
    "#Replace zeroes\n",
    "zero_not_accepted = ['glucose_concentration', 'blood_pressure', 'skin_fold_thickness', 'serum_insulin', 'bmi']\n",
    "\n",
    "for column in zero_not_accepted: \n",
    "    data[column] = data[column].replace(0, np.NaN) #replace all 0 with NaN (doesn't exist)\n",
    "    mean = int(data[column].mean(skipna=True))\n",
    "    data[column] = data[column].replace(np.NaN, mean) #replace all NaN with the mean value"
   ]
  },
  {
   "cell_type": "markdown",
   "metadata": {},
   "source": [
    "# Decision Tree Classifier"
   ]
  },
  {
   "cell_type": "code",
   "execution_count": 12,
   "metadata": {
    "scrolled": true
   },
   "outputs": [
    {
     "name": "stdout",
     "output_type": "stream",
     "text": [
      "Accuracy Score: 73.98 %\n"
     ]
    }
   ],
   "source": [
    "from sklearn.tree import DecisionTreeClassifier\n",
    "\n",
    "\n",
    "X = data.iloc[:,0:9].values\n",
    "y = data.iloc[:,9].values\n",
    "\n",
    "\n",
    "XTrain, XTest, yTrain, yTest = train_test_split(X, y, test_size = 0.2, random_state=1)\n",
    "\n",
    "Dt = DecisionTreeClassifier(max_leaf_nodes=9, random_state=1)\n",
    "Dt.fit(XTrain, yTrain)\n",
    "yPred = Dt.predict(XTest)\n",
    "\n",
    "accuracy = Dt.score(XTest, yTest) * 100\n",
    "print('Accuracy Score:', round(accuracy, 2), '%')\n"
   ]
  },
  {
   "cell_type": "code",
   "execution_count": 14,
   "metadata": {},
   "outputs": [
    {
     "data": {
      "text/plain": [
       "Text(33.0, 0.5, 'Actual')"
      ]
     },
     "execution_count": 14,
     "metadata": {},
     "output_type": "execute_result"
    },
    {
     "data": {
      "image/png": "[encoded data removed]",
      "text/plain": [
       "<Figure size 432x288 with 2 Axes>"
      ]
     },
     "metadata": {
      "needs_background": "light"
     },
     "output_type": "display_data"
    }
   ],
   "source": [
    "ConfusionM = confusion_matrix(yTest, yPred)\n",
    "ConfusionM = sns.heatmap(ConfusionM, annot = True)\n",
    "\n",
    "ConfusionM.set_title('Decision Tree Confusion Matrix')\n",
    "ConfusionM.set_xlabel('Predicted')\n",
    "ConfusionM.set_ylabel('Actual')\n"
   ]
  },
  {
   "cell_type": "markdown",
   "metadata": {},
   "source": [
    "# Stochastic Gradient Decent"
   ]
  },
  {
   "cell_type": "code",
   "execution_count": null,
   "metadata": {},
   "outputs": [],
   "source": [
    "from sklearn.linear_model import SGDClassifier\n",
    "\n",
    "XTrain, XTest, yTrain, yTest = train_test_split(X, y,test_size = 0.2, random_state=0)\n",
    "\n",
    "clf = SGDClassifier(loss=\"hinge\", penalty=\"l2\", max_iter=6)\n",
    "clf.fit(X, y)\n",
    "SGDClassifier(max_iter=6)\n",
    "\n",
    "clf.predict(XTest)\n",
    "\n",
    "accuracy = clf.score(XTest, yTest) * 100\n",
    "print('Accuracy Score:', round(accuracy, 2), '%')"
   ]
  },
  {
   "cell_type": "code",
   "execution_count": null,
   "metadata": {},
   "outputs": [],
   "source": [
    "ConfusionM = confusion_matrix(yTest, yPred)\n",
    "ConfusionM = sns.heatmap(ConfusionM, annot = True)\n",
    "\n",
    "ConfusionM.set_title('Stochastic Gradient Decent')\n",
    "ConfusionM.set_xlabel('Predicted')\n",
    "ConfusionM.set_ylabel('Actual')"
   ]
  },
  {
   "cell_type": "markdown",
   "metadata": {},
   "source": [
    "# Neural Networks"
   ]
  },
  {
   "cell_type": "code",
   "execution_count": 22,
   "metadata": {},
   "outputs": [],
   "source": [
    "from sklearn.neural_network import MLPClassifier"
   ]
  },
  {
   "cell_type": "code",
   "execution_count": 23,
   "metadata": {},
   "outputs": [
    {
     "name": "stdout",
     "output_type": "stream",
     "text": [
      "Accuracy Score: 66.23 %\n"
     ]
    },
    {
     "data": {
      "text/plain": [
       "Text(33.0, 0.5, 'Actual')"
      ]
     },
     "execution_count": 23,
     "metadata": {},
     "output_type": "execute_result"
    },
    {
     "data": {
      "image/png": "[encoded data removed]",
      "text/plain": [
       "<Figure size 432x288 with 2 Axes>"
      ]
     },
     "metadata": {
      "needs_background": "light"
     },
     "output_type": "display_data"
    }
   ],
   "source": [
    "XTrain, XTest, yTrain, yTest = train_test_split(X, y, random_state=0)\n",
    "\n",
    "NeuralNet = MLPClassifier(random_state = 3, max_iter = 9000)\n",
    "\n",
    "NeuralNet.fit(XTrain, yTrain)\n",
    "yPred = NeuralNet.predict(XTest)\n",
    "\n",
    "accuracy = (accuracy_score(yTest, yPred)) * 100\n",
    "print('Accuracy Score:', round(accuracy, 2), '%')\n",
    "\n",
    "ConfusionM = confusion_matrix(yTest, yPred)\n",
    "ConfusionM = sns.heatmap(ConfusionM, annot = True)\n",
    "ConfusionM.set_title('Neural Net Confusion Matrix')\n",
    "ConfusionM.set_xlabel('Predicted')\n",
    "ConfusionM.set_ylabel('Actual')"
   ]
  }
 ],
 "metadata": {
  "kernelspec": {
   "display_name": "Python 3",
   "language": "python",
   "name": "python3"
  },
  "language_info": {
   "codemirror_mode": {
    "name": "ipython",
    "version": 3
   },
   "file_extension": ".py",
   "mimetype": "text/x-python",
   "name": "python",
   "nbconvert_exporter": "python",
   "pygments_lexer": "ipython3",
   "version": "3.8.5"
  }
 },
 "nbformat": 4,
 "nbformat_minor": 4
}
